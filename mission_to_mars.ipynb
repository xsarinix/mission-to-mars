{
 "cells": [
  {
   "cell_type": "code",
   "execution_count": 1,
   "metadata": {},
   "outputs": [],
   "source": [
    "import pymongo\n",
    "from bs4 import BeautifulSoup as bs\n",
    "import requests\n",
    "from splinter import Browser\n",
    "import pandas as pd\n",
    "import numpy as np"
   ]
  },
  {
   "cell_type": "code",
   "execution_count": 135,
   "metadata": {},
   "outputs": [],
   "source": [
    "# Connect to MongoDB\n",
    "conn = 'mongodb://localhost:27017'\n",
    "client = pymongo.MongoClient(conn)"
   ]
  },
  {
   "cell_type": "code",
   "execution_count": 14,
   "metadata": {},
   "outputs": [],
   "source": [
    "db = client.db_name\n",
    "collection = db.items"
   ]
  },
  {
   "cell_type": "code",
   "execution_count": 10,
   "metadata": {},
   "outputs": [],
   "source": [
    "# Create BeautifulSoup object for NASA website\n",
    "nasa_url = \"https://mars.nasa.gov/news/?page=0&per_page=40&order=publish_date+desc%2Ccreated_at+desc&search=&category=19%2C165%2C184%2C204&blank_scope=Latest\"\n",
    "nasa_html = requests.get(nasa_url).text\n",
    "nasa_soup = bs(nasa_html, 'lxml')"
   ]
  },
  {
   "cell_type": "code",
   "execution_count": 11,
   "metadata": {},
   "outputs": [
    {
     "data": {
      "text/plain": [
       "\"NASA's InSight Places First Instrument on Mars\""
      ]
     },
     "execution_count": 11,
     "metadata": {},
     "output_type": "execute_result"
    }
   ],
   "source": [
    "# Get first title\n",
    "title_results = nasa_soup.find_all('div', class_=\"content_title\")\n",
    "title_list = []\n",
    "for result in title_results:\n",
    "    try:\n",
    "        title = result.find('a').text.strip()\n",
    "        if title:\n",
    "            # print(title)\n",
    "            title_list.append(title)\n",
    "    except Exception as e:\n",
    "        print(f'Fail: {e}')\n",
    "first_title = title_list[0]\n",
    "first_title"
   ]
  },
  {
   "cell_type": "code",
   "execution_count": 12,
   "metadata": {},
   "outputs": [
    {
     "data": {
      "text/plain": [
       "'In deploying its first instrument onto the surface of Mars, the lander completes a major mission milestone.'"
      ]
     },
     "execution_count": 12,
     "metadata": {},
     "output_type": "execute_result"
    }
   ],
   "source": [
    "# Get first paragraph\n",
    "p_results = nasa_soup.find_all('div', class_=\"rollover_description_inner\")\n",
    "p_list = []\n",
    "for p in p_results:\n",
    "    try:\n",
    "        par = p.text.strip()\n",
    "        if par:\n",
    "            #print(par)\n",
    "            #print(\"--------\")\n",
    "            p_list.append(par)\n",
    "    except Exception as e:\n",
    "        print(f'Fail: {e}')\n",
    "first_par = p_list[0]\n",
    "first_par"
   ]
  },
  {
   "cell_type": "code",
   "execution_count": 13,
   "metadata": {},
   "outputs": [],
   "source": [
    "# Create splinter broswer instance\n",
    "executable_path = {'executable_path':'C:\\Program Files (x86)\\Google\\Chrome\\Application\\chromedriver.exe'}\n",
    "browser = Browser('chrome', **executable_path)"
   ]
  },
  {
   "cell_type": "code",
   "execution_count": 183,
   "metadata": {},
   "outputs": [],
   "source": [
    "# Open browser & visit website\n",
    "browser.visit(\"https://www.jpl.nasa.gov/spaceimages/?search=&category=Mars\")"
   ]
  },
  {
   "cell_type": "code",
   "execution_count": 184,
   "metadata": {},
   "outputs": [],
   "source": [
    "# click on \"full image\" button\n",
    "browser.find_by_css('.button').first.click()"
   ]
  },
  {
   "cell_type": "code",
   "execution_count": 185,
   "metadata": {},
   "outputs": [],
   "source": [
    "# click on the \"more info\" button\n",
    "browser.find_by_css('.button').last.click()"
   ]
  },
  {
   "cell_type": "code",
   "execution_count": 186,
   "metadata": {},
   "outputs": [],
   "source": [
    "# Click link for full image\n",
    "partial_link = browser.find_by_css('.download_tiff').last.value.split(\" \")[2]\n",
    "browser.click_link_by_partial_href(partial_link)"
   ]
  },
  {
   "cell_type": "code",
   "execution_count": 187,
   "metadata": {},
   "outputs": [],
   "source": [
    "# Get full image URL\n",
    "featured_image_url = browser.url"
   ]
  },
  {
   "cell_type": "code",
   "execution_count": 16,
   "metadata": {},
   "outputs": [],
   "source": [
    "# Create BeautifulSoup object for Twitter site\n",
    "twitter_url = \"https://twitter.com/marswxreport?lang=en\"\n",
    "twitter_html = requests.get(twitter_url).text\n",
    "twitter_soup = bs(twitter_html, 'lxml')"
   ]
  },
  {
   "cell_type": "code",
   "execution_count": 140,
   "metadata": {},
   "outputs": [
    {
     "data": {
      "text/plain": [
       "'Sol 2305 (2019-01-30), high -4C/24F, low -73C/-99F, pressure at 8.14 hPa, daylight 06:47-18:54pic.twitter.com/OTkUTDyRpu'"
      ]
     },
     "execution_count": 140,
     "metadata": {},
     "output_type": "execute_result"
    }
   ],
   "source": [
    "# Get tweets\n",
    "tweets = twitter_soup.find_all('div', class_ = \"content\")\n",
    "weather_only_tweets = []\n",
    "\n",
    "# Loop through tweets to find weather report tweets\n",
    "for tweet in tweets:\n",
    "    # Eliminate retweets\n",
    "    username = tweet.find('span', class_ = \"username u-dir u-textTruncate\")\n",
    "    if username.text == \"@MarsWxReport\":\n",
    "        tweet_content = tweet.find('p', class_ = \"TweetTextSize TweetTextSize--normal js-tweet-text tweet-text\").text.strip()\n",
    "        # Eliminate non-weather tweets\n",
    "        report_test = tweet_content.split(\" \")\n",
    "        if report_test[0] == \"Sol\":\n",
    "            weather_only_tweets.append(tweet_content)\n",
    "mars_weather = weather_only_tweets[0]\n",
    "mars_weather"
   ]
  },
  {
   "cell_type": "code",
   "execution_count": null,
   "metadata": {},
   "outputs": [],
   "source": []
  }
 ],
 "metadata": {
  "kernelspec": {
   "display_name": "Python 3",
   "language": "python",
   "name": "python3"
  },
  "language_info": {
   "codemirror_mode": {
    "name": "ipython",
    "version": 3
   },
   "file_extension": ".py",
   "mimetype": "text/x-python",
   "name": "python",
   "nbconvert_exporter": "python",
   "pygments_lexer": "ipython3",
   "version": "3.6.8"
  }
 },
 "nbformat": 4,
 "nbformat_minor": 2
}
